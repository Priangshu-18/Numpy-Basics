{
  "nbformat": 4,
  "nbformat_minor": 0,
  "metadata": {
    "colab": {
      "provenance": [],
      "authorship_tag": "ABX9TyMXpYEqA8sksEoibr0S6K8l",
      "include_colab_link": true
    },
    "kernelspec": {
      "name": "python3",
      "display_name": "Python 3"
    },
    "language_info": {
      "name": "python"
    }
  },
  "cells": [
    {
      "cell_type": "markdown",
      "metadata": {
        "id": "view-in-github",
        "colab_type": "text"
      },
      "source": [
        "<a href=\"https://colab.research.google.com/github/Priangshu-18/Numpy-Basics/blob/main/NumPy_Basics.ipynb\" target=\"_parent\"><img src=\"https://colab.research.google.com/assets/colab-badge.svg\" alt=\"Open In Colab\"/></a>"
      ]
    },
    {
      "cell_type": "code",
      "execution_count": null,
      "metadata": {
        "colab": {
          "base_uri": "https://localhost:8080/"
        },
        "id": "fmcNW6XnRqEc",
        "outputId": "a3ea8051-621e-4b22-8606-a870cbde5ff7"
      },
      "outputs": [
        {
          "output_type": "stream",
          "name": "stdout",
          "text": [
            "processor\t: 0\n",
            "vendor_id\t: GenuineIntel\n",
            "cpu family\t: 6\n",
            "model\t\t: 79\n",
            "model name\t: Intel(R) Xeon(R) CPU @ 2.20GHz\n",
            "stepping\t: 0\n",
            "microcode\t: 0xffffffff\n",
            "cpu MHz\t\t: 2199.998\n",
            "cache size\t: 56320 KB\n",
            "physical id\t: 0\n",
            "siblings\t: 2\n",
            "core id\t\t: 0\n",
            "cpu cores\t: 1\n",
            "apicid\t\t: 0\n",
            "initial apicid\t: 0\n",
            "fpu\t\t: yes\n",
            "fpu_exception\t: yes\n",
            "cpuid level\t: 13\n",
            "wp\t\t: yes\n",
            "flags\t\t: fpu vme de pse tsc msr pae mce cx8 apic sep mtrr pge mca cmov pat pse36 clflush mmx fxsr sse sse2 ss ht syscall nx pdpe1gb rdtscp lm constant_tsc rep_good nopl xtopology nonstop_tsc cpuid tsc_known_freq pni pclmulqdq ssse3 fma cx16 pcid sse4_1 sse4_2 x2apic movbe popcnt aes xsave avx f16c rdrand hypervisor lahf_lm abm 3dnowprefetch invpcid_single ssbd ibrs ibpb stibp fsgsbase tsc_adjust bmi1 hle avx2 smep bmi2 erms invpcid rtm rdseed adx smap xsaveopt arat md_clear arch_capabilities\n",
            "bugs\t\t: cpu_meltdown spectre_v1 spectre_v2 spec_store_bypass l1tf mds swapgs taa mmio_stale_data retbleed bhi\n",
            "bogomips\t: 4399.99\n",
            "clflush size\t: 64\n",
            "cache_alignment\t: 64\n",
            "address sizes\t: 46 bits physical, 48 bits virtual\n",
            "power management:\n",
            "\n",
            "processor\t: 1\n",
            "vendor_id\t: GenuineIntel\n",
            "cpu family\t: 6\n",
            "model\t\t: 79\n",
            "model name\t: Intel(R) Xeon(R) CPU @ 2.20GHz\n",
            "stepping\t: 0\n",
            "microcode\t: 0xffffffff\n",
            "cpu MHz\t\t: 2199.998\n",
            "cache size\t: 56320 KB\n",
            "physical id\t: 0\n",
            "siblings\t: 2\n",
            "core id\t\t: 0\n",
            "cpu cores\t: 1\n",
            "apicid\t\t: 1\n",
            "initial apicid\t: 1\n",
            "fpu\t\t: yes\n",
            "fpu_exception\t: yes\n",
            "cpuid level\t: 13\n",
            "wp\t\t: yes\n",
            "flags\t\t: fpu vme de pse tsc msr pae mce cx8 apic sep mtrr pge mca cmov pat pse36 clflush mmx fxsr sse sse2 ss ht syscall nx pdpe1gb rdtscp lm constant_tsc rep_good nopl xtopology nonstop_tsc cpuid tsc_known_freq pni pclmulqdq ssse3 fma cx16 pcid sse4_1 sse4_2 x2apic movbe popcnt aes xsave avx f16c rdrand hypervisor lahf_lm abm 3dnowprefetch invpcid_single ssbd ibrs ibpb stibp fsgsbase tsc_adjust bmi1 hle avx2 smep bmi2 erms invpcid rtm rdseed adx smap xsaveopt arat md_clear arch_capabilities\n",
            "bugs\t\t: cpu_meltdown spectre_v1 spectre_v2 spec_store_bypass l1tf mds swapgs taa mmio_stale_data retbleed bhi\n",
            "bogomips\t: 4399.99\n",
            "clflush size\t: 64\n",
            "cache_alignment\t: 64\n",
            "address sizes\t: 46 bits physical, 48 bits virtual\n",
            "power management:\n",
            "\n"
          ]
        }
      ],
      "source": [
        "!cat /proc/cpuinfo"
      ]
    },
    {
      "cell_type": "code",
      "source": [
        "!cat /proc/meminfo"
      ],
      "metadata": {
        "colab": {
          "base_uri": "https://localhost:8080/"
        },
        "id": "T69zWJ6FR47a",
        "outputId": "68e1b884-f327-444f-d787-3106cadfb0d9"
      },
      "execution_count": null,
      "outputs": [
        {
          "output_type": "stream",
          "name": "stdout",
          "text": [
            "MemTotal:       13289424 kB\n",
            "MemFree:         7960060 kB\n",
            "MemAvailable:   12261352 kB\n",
            "Buffers:          386904 kB\n",
            "Cached:          4087548 kB\n",
            "SwapCached:            0 kB\n",
            "Active:           711164 kB\n",
            "Inactive:        4325236 kB\n",
            "Active(anon):       1288 kB\n",
            "Inactive(anon):   562468 kB\n",
            "Active(file):     709876 kB\n",
            "Inactive(file):  3762768 kB\n",
            "Unevictable:           8 kB\n",
            "Mlocked:               8 kB\n",
            "SwapTotal:             0 kB\n",
            "SwapFree:              0 kB\n",
            "Dirty:              1784 kB\n",
            "Writeback:             0 kB\n",
            "AnonPages:        561720 kB\n",
            "Mapped:           322696 kB\n",
            "Shmem:              1800 kB\n",
            "KReclaimable:     139176 kB\n",
            "Slab:             178952 kB\n",
            "SReclaimable:     139176 kB\n",
            "SUnreclaim:        39776 kB\n",
            "KernelStack:        5372 kB\n",
            "PageTables:         9368 kB\n",
            "SecPageTables:         0 kB\n",
            "NFS_Unstable:          0 kB\n",
            "Bounce:                0 kB\n",
            "WritebackTmp:          0 kB\n",
            "CommitLimit:     6644712 kB\n",
            "Committed_AS:    2568552 kB\n",
            "VmallocTotal:   34359738367 kB\n",
            "VmallocUsed:       12024 kB\n",
            "VmallocChunk:          0 kB\n",
            "Percpu:             1072 kB\n",
            "HardwareCorrupted:     0 kB\n",
            "AnonHugePages:         0 kB\n",
            "ShmemHugePages:        0 kB\n",
            "ShmemPmdMapped:        0 kB\n",
            "FileHugePages:         0 kB\n",
            "FilePmdMapped:         0 kB\n",
            "CmaTotal:              0 kB\n",
            "CmaFree:               0 kB\n",
            "Unaccepted:            0 kB\n",
            "HugePages_Total:       0\n",
            "HugePages_Free:        0\n",
            "HugePages_Rsvd:        0\n",
            "HugePages_Surp:        0\n",
            "Hugepagesize:       2048 kB\n",
            "Hugetlb:               0 kB\n",
            "DirectMap4k:       64304 kB\n",
            "DirectMap2M:     5175296 kB\n",
            "DirectMap1G:    10485760 kB\n"
          ]
        }
      ]
    },
    {
      "cell_type": "markdown",
      "source": [
        "# NumPy- Numerical Python"
      ],
      "metadata": {
        "id": "EfCFjozWL8Dh"
      }
    },
    {
      "cell_type": "markdown",
      "source": [
        "List vs Numpy Time Comparison"
      ],
      "metadata": {
        "id": "iL_mxz7BN76B"
      }
    },
    {
      "cell_type": "code",
      "source": [
        "import numpy as np"
      ],
      "metadata": {
        "id": "eWI8e_qpMKkX"
      },
      "execution_count": null,
      "outputs": []
    },
    {
      "cell_type": "code",
      "source": [
        "from time import process_time"
      ],
      "metadata": {
        "id": "o6pbSd6wMO8_"
      },
      "execution_count": null,
      "outputs": []
    },
    {
      "cell_type": "code",
      "source": [
        "my_list = [i for i in range(100)]\n",
        "\n",
        "start_time = process_time()\n",
        "\n",
        "my_list = [i+5 for i in my_list]\n",
        "\n",
        "end_time = process_time()\n",
        "\n",
        "print(end_time - start_time)"
      ],
      "metadata": {
        "colab": {
          "base_uri": "https://localhost:8080/"
        },
        "id": "NDQgocmMM_Xx",
        "outputId": "7cc19c67-66fc-4b3d-df22-5373dc92d807"
      },
      "execution_count": null,
      "outputs": [
        {
          "output_type": "stream",
          "name": "stdout",
          "text": [
            "0.00010759799999959796\n"
          ]
        }
      ]
    },
    {
      "cell_type": "code",
      "source": [
        "numpy_array = np.array([i for i in range(100)])\n",
        "\n",
        "start_time = process_time()\n",
        "\n",
        "numpy_array += 5\n",
        "\n",
        "end_time = process_time()\n",
        "\n",
        "print(end_time - start_time)"
      ],
      "metadata": {
        "colab": {
          "base_uri": "https://localhost:8080/"
        },
        "id": "dRyDS2_UNlMn",
        "outputId": "b257ca21-d5a8-4b53-c778-3a04cf4fbcf1"
      },
      "execution_count": null,
      "outputs": [
        {
          "output_type": "stream",
          "name": "stdout",
          "text": [
            "0.00011738299999919377\n"
          ]
        }
      ]
    },
    {
      "cell_type": "markdown",
      "source": [
        "For smaller values list is better but for more number of values numpy is time saving"
      ],
      "metadata": {
        "id": "eBuZ_iasOgVT"
      }
    },
    {
      "cell_type": "code",
      "source": [
        "my_list = [i for i in range(10000)]\n",
        "\n",
        "start_time = process_time()\n",
        "\n",
        "my_list = [i+5 for i in my_list]\n",
        "\n",
        "end_time = process_time()\n",
        "\n",
        "print(end_time - start_time)"
      ],
      "metadata": {
        "colab": {
          "base_uri": "https://localhost:8080/"
        },
        "id": "LPvXVJCDOU1y",
        "outputId": "62ba2a83-eb92-4417-b339-9afe0f35bbb4"
      },
      "execution_count": null,
      "outputs": [
        {
          "output_type": "stream",
          "name": "stdout",
          "text": [
            "0.0008272919999985362\n"
          ]
        }
      ]
    },
    {
      "cell_type": "code",
      "source": [
        "numpy_array = np.array([i for i in range(10000)])\n",
        "\n",
        "start_time = process_time()\n",
        "\n",
        "numpy_array += 5\n",
        "\n",
        "end_time = process_time()\n",
        "\n",
        "print(end_time - start_time)"
      ],
      "metadata": {
        "colab": {
          "base_uri": "https://localhost:8080/"
        },
        "id": "_aXI2HQJOrkS",
        "outputId": "97e24ee4-d147-4634-e69e-127e8ff3fdc8"
      },
      "execution_count": null,
      "outputs": [
        {
          "output_type": "stream",
          "name": "stdout",
          "text": [
            "0.00015277099999977395\n"
          ]
        }
      ]
    },
    {
      "cell_type": "code",
      "source": [],
      "metadata": {
        "id": "q-uXs8q1OyCs"
      },
      "execution_count": null,
      "outputs": []
    },
    {
      "cell_type": "markdown",
      "source": [
        "# NumPy Arrays"
      ],
      "metadata": {
        "id": "BzaybzsrPCBB"
      }
    },
    {
      "cell_type": "code",
      "source": [
        "import numpy as np"
      ],
      "metadata": {
        "id": "ps92tSmkPE3d"
      },
      "execution_count": null,
      "outputs": []
    },
    {
      "cell_type": "markdown",
      "source": [
        "1D NumPy Array"
      ],
      "metadata": {
        "id": "ubQiPiegRaE7"
      }
    },
    {
      "cell_type": "code",
      "source": [
        "np_array = np.array([1,2,3,4,5])\n",
        "print(np_array)\n",
        "type(np_array)"
      ],
      "metadata": {
        "colab": {
          "base_uri": "https://localhost:8080/"
        },
        "id": "bB2aJKm4PJIK",
        "outputId": "89147715-399b-4a90-cc23-15befa38db9d"
      },
      "execution_count": null,
      "outputs": [
        {
          "output_type": "stream",
          "name": "stdout",
          "text": [
            "[1 2 3 4 5]\n"
          ]
        },
        {
          "output_type": "execute_result",
          "data": {
            "text/plain": [
              "numpy.ndarray"
            ]
          },
          "metadata": {},
          "execution_count": 8
        }
      ]
    },
    {
      "cell_type": "code",
      "source": [
        "np_array.shape"
      ],
      "metadata": {
        "colab": {
          "base_uri": "https://localhost:8080/"
        },
        "id": "5yj7weJSPXbu",
        "outputId": "a78fbfd5-7c98-438e-fb1d-a08a3aa5e13c"
      },
      "execution_count": null,
      "outputs": [
        {
          "output_type": "execute_result",
          "data": {
            "text/plain": [
              "(5,)"
            ]
          },
          "metadata": {},
          "execution_count": 9
        }
      ]
    },
    {
      "cell_type": "markdown",
      "source": [
        "2D NumPy Array"
      ],
      "metadata": {
        "id": "QjqVBRSPReE3"
      }
    },
    {
      "cell_type": "code",
      "source": [
        "TwoD_Numpy_array = np.array([(1,2,3),(4,5,6)])\n",
        "print(TwoD_Numpy_array)"
      ],
      "metadata": {
        "colab": {
          "base_uri": "https://localhost:8080/"
        },
        "id": "uc97EW1YRWcu",
        "outputId": "8c85a441-bccd-40ae-903a-ad98ded97831"
      },
      "execution_count": null,
      "outputs": [
        {
          "output_type": "stream",
          "name": "stdout",
          "text": [
            "[[1 2 3]\n",
            " [4 5 6]]\n"
          ]
        }
      ]
    },
    {
      "cell_type": "code",
      "source": [
        "TwoD_Numpy_array.shape"
      ],
      "metadata": {
        "colab": {
          "base_uri": "https://localhost:8080/"
        },
        "id": "GNp3jccURzCB",
        "outputId": "28ceafd7-c47f-41f3-fa2f-6b1987253db8"
      },
      "execution_count": null,
      "outputs": [
        {
          "output_type": "execute_result",
          "data": {
            "text/plain": [
              "(2, 3)"
            ]
          },
          "metadata": {},
          "execution_count": 11
        }
      ]
    },
    {
      "cell_type": "markdown",
      "source": [
        "Initial Placeholders in NumPy array"
      ],
      "metadata": {
        "id": "szS_KYJOSC44"
      }
    },
    {
      "cell_type": "code",
      "source": [
        "x = np.zeros((4,5))\n",
        "print(x)"
      ],
      "metadata": {
        "colab": {
          "base_uri": "https://localhost:8080/"
        },
        "id": "Hkg42dn4R42-",
        "outputId": "fa73992c-28c5-4878-aa3e-ace4f0409826"
      },
      "execution_count": null,
      "outputs": [
        {
          "output_type": "stream",
          "name": "stdout",
          "text": [
            "[[0. 0. 0. 0. 0.]\n",
            " [0. 0. 0. 0. 0.]\n",
            " [0. 0. 0. 0. 0.]\n",
            " [0. 0. 0. 0. 0.]]\n"
          ]
        }
      ]
    },
    {
      "cell_type": "code",
      "source": [
        "y = np.ones((3,3))\n",
        "print(y)"
      ],
      "metadata": {
        "colab": {
          "base_uri": "https://localhost:8080/"
        },
        "id": "ULUsg3VISO_j",
        "outputId": "1256c007-eecb-4ac3-d51c-0ddf5424921e"
      },
      "execution_count": null,
      "outputs": [
        {
          "output_type": "stream",
          "name": "stdout",
          "text": [
            "[[1. 1. 1.]\n",
            " [1. 1. 1.]\n",
            " [1. 1. 1.]]\n"
          ]
        }
      ]
    },
    {
      "cell_type": "code",
      "source": [
        "z = np.full((3,4), 8)\n",
        "print(z)"
      ],
      "metadata": {
        "colab": {
          "base_uri": "https://localhost:8080/"
        },
        "id": "BJphmbqwSY3Z",
        "outputId": "87986cc6-c31e-4c44-c2fd-56017a14bb2e"
      },
      "execution_count": null,
      "outputs": [
        {
          "output_type": "stream",
          "name": "stdout",
          "text": [
            "[[8 8 8 8]\n",
            " [8 8 8 8]\n",
            " [8 8 8 8]]\n"
          ]
        }
      ]
    },
    {
      "cell_type": "code",
      "source": [
        "a = np.eye(4)\n",
        "print(a)"
      ],
      "metadata": {
        "colab": {
          "base_uri": "https://localhost:8080/"
        },
        "id": "BMxVIymDSh9L",
        "outputId": "eca6f40a-1351-4e77-e906-d62fd5f4c2fe"
      },
      "execution_count": null,
      "outputs": [
        {
          "output_type": "stream",
          "name": "stdout",
          "text": [
            "[[1. 0. 0. 0.]\n",
            " [0. 1. 0. 0.]\n",
            " [0. 0. 1. 0.]\n",
            " [0. 0. 0. 1.]]\n"
          ]
        }
      ]
    },
    {
      "cell_type": "markdown",
      "source": [
        "Random Values in NumPy Array"
      ],
      "metadata": {
        "id": "Xin9ERywz1_m"
      }
    },
    {
      "cell_type": "code",
      "source": [
        "import numpy as np\n",
        "a = np.random.random((3,4))\n",
        "print(a)"
      ],
      "metadata": {
        "id": "aJR6FnVVS0Wr",
        "colab": {
          "base_uri": "https://localhost:8080/"
        },
        "outputId": "6cf8a8b4-15c2-4a08-df4e-0b5f3b96fc91"
      },
      "execution_count": null,
      "outputs": [
        {
          "output_type": "stream",
          "name": "stdout",
          "text": [
            "[[0.29564183 0.50951631 0.04986925 0.72775737]\n",
            " [0.92599009 0.37918315 0.62473741 0.84244705]\n",
            " [0.24866501 0.51885374 0.66147406 0.56582493]]\n"
          ]
        }
      ]
    },
    {
      "cell_type": "code",
      "source": [
        "import numpy as np\n",
        "a = np.random.randint(10,100,(3,4))\n",
        "print(a)"
      ],
      "metadata": {
        "colab": {
          "base_uri": "https://localhost:8080/"
        },
        "id": "XDTWXtxC0BNP",
        "outputId": "aa99a523-9cbb-4be1-ea91-3750677bf38a"
      },
      "execution_count": null,
      "outputs": [
        {
          "output_type": "stream",
          "name": "stdout",
          "text": [
            "[[16 49 46 86]\n",
            " [35 30 55 95]\n",
            " [59 15 30 51]]\n"
          ]
        }
      ]
    },
    {
      "cell_type": "code",
      "source": [
        "# Array with evenly spaced values\n",
        "a = np.linspace(10,30,6)\n",
        "print(a)\n",
        "\n",
        "# Array with evenly spaced values with steps specification\n",
        "a = np.arange(10,30,5)\n",
        "print(a)"
      ],
      "metadata": {
        "colab": {
          "base_uri": "https://localhost:8080/"
        },
        "id": "RZMLa1xR0cIb",
        "outputId": "752b926f-a4c1-4189-a7a0-9115fa1960ea"
      },
      "execution_count": null,
      "outputs": [
        {
          "output_type": "stream",
          "name": "stdout",
          "text": [
            "[10. 14. 18. 22. 26. 30.]\n",
            "[10 15 20 25]\n"
          ]
        }
      ]
    },
    {
      "cell_type": "code",
      "source": [
        "# List to numpy array\n",
        "list_1 = [1,2,3,4,5]\n",
        "numpy_array = np.asarray(list_1)\n",
        "print(numpy_array)\n",
        "type(numpy_array)"
      ],
      "metadata": {
        "colab": {
          "base_uri": "https://localhost:8080/"
        },
        "id": "zCrjNiN-0_rE",
        "outputId": "6ea75f05-de97-4821-9892-b2c868e665e5"
      },
      "execution_count": null,
      "outputs": [
        {
          "output_type": "stream",
          "name": "stdout",
          "text": [
            "[1 2 3 4 5]\n"
          ]
        },
        {
          "output_type": "execute_result",
          "data": {
            "text/plain": [
              "numpy.ndarray"
            ]
          },
          "metadata": {},
          "execution_count": 10
        }
      ]
    },
    {
      "cell_type": "markdown",
      "source": [
        "Analyzing array"
      ],
      "metadata": {
        "id": "JKpGiAno4h6x"
      }
    },
    {
      "cell_type": "code",
      "source": [
        "a = np.random.randint(10,100,(5,5))"
      ],
      "metadata": {
        "id": "ehuX8XOU17TC"
      },
      "execution_count": null,
      "outputs": []
    },
    {
      "cell_type": "code",
      "source": [
        "print(a)"
      ],
      "metadata": {
        "colab": {
          "base_uri": "https://localhost:8080/"
        },
        "id": "Xyvq6GjQ4ppe",
        "outputId": "a0f8111f-3b68-4535-d6cc-30d2c70fda29"
      },
      "execution_count": null,
      "outputs": [
        {
          "output_type": "stream",
          "name": "stdout",
          "text": [
            "[[55 38 38 28 38]\n",
            " [15 12 13 15 83]\n",
            " [30 51 40 11 15]\n",
            " [43 82 86 66 59]\n",
            " [88 73 94 94 62]]\n"
          ]
        }
      ]
    },
    {
      "cell_type": "code",
      "source": [
        "print(a.shape) # 5 x 5 matrix\n",
        "\n",
        "print(a.ndim) # Dimentional array\n",
        "\n",
        "print(a.dtype) # datatype\n",
        "\n",
        "print(a.size) # Total number of elements in the array"
      ],
      "metadata": {
        "colab": {
          "base_uri": "https://localhost:8080/"
        },
        "id": "AbO18E6D4rGb",
        "outputId": "4eb98e96-4491-463f-d666-3a2b8d2725ac"
      },
      "execution_count": null,
      "outputs": [
        {
          "output_type": "stream",
          "name": "stdout",
          "text": [
            "(5, 5)\n",
            "2\n",
            "int64\n",
            "25\n"
          ]
        }
      ]
    },
    {
      "cell_type": "markdown",
      "source": [
        "Array Operations"
      ],
      "metadata": {
        "id": "tLQwmgoP52pE"
      }
    },
    {
      "cell_type": "code",
      "source": [
        "a = np.random.randint(1,10,(5,5))\n",
        "b = np.random.randint(10,20,(5,5))\n",
        "print(a)\n",
        "print(b)"
      ],
      "metadata": {
        "colab": {
          "base_uri": "https://localhost:8080/"
        },
        "id": "3kls5X2T45Eb",
        "outputId": "fbf82287-a549-4a26-8097-2cc575f01c51"
      },
      "execution_count": null,
      "outputs": [
        {
          "output_type": "stream",
          "name": "stdout",
          "text": [
            "[[9 6 4 2 9]\n",
            " [6 2 7 8 3]\n",
            " [7 3 9 4 5]\n",
            " [1 7 1 5 6]\n",
            " [3 6 8 6 4]]\n",
            "[[10 18 15 10 13]\n",
            " [14 17 10 12 13]\n",
            " [19 13 18 11 18]\n",
            " [15 10 15 12 12]\n",
            " [19 16 18 15 15]]\n"
          ]
        }
      ]
    },
    {
      "cell_type": "code",
      "source": [
        "print(a+b)\n",
        "print(b-a)\n",
        "print(a*b)\n",
        "print(a/b)\n",
        "\n",
        "# or\n",
        "\n",
        "print(np.add(a,b))\n",
        "print(np.subtract(b,a))"
      ],
      "metadata": {
        "colab": {
          "base_uri": "https://localhost:8080/"
        },
        "id": "qhGCOkTy5_JJ",
        "outputId": "20873faa-a491-4eda-d2fe-8c2778943311"
      },
      "execution_count": null,
      "outputs": [
        {
          "output_type": "stream",
          "name": "stdout",
          "text": [
            "[[19 24 19 12 22]\n",
            " [20 19 17 20 16]\n",
            " [26 16 27 15 23]\n",
            " [16 17 16 17 18]\n",
            " [22 22 26 21 19]]\n",
            "[[ 1 12 11  8  4]\n",
            " [ 8 15  3  4 10]\n",
            " [12 10  9  7 13]\n",
            " [14  3 14  7  6]\n",
            " [16 10 10  9 11]]\n",
            "[[ 90 108  60  20 117]\n",
            " [ 84  34  70  96  39]\n",
            " [133  39 162  44  90]\n",
            " [ 15  70  15  60  72]\n",
            " [ 57  96 144  90  60]]\n",
            "[[0.9        0.33333333 0.26666667 0.2        0.69230769]\n",
            " [0.42857143 0.11764706 0.7        0.66666667 0.23076923]\n",
            " [0.36842105 0.23076923 0.5        0.36363636 0.27777778]\n",
            " [0.06666667 0.7        0.06666667 0.41666667 0.5       ]\n",
            " [0.15789474 0.375      0.44444444 0.4        0.26666667]]\n",
            "[[19 24 19 12 22]\n",
            " [20 19 17 20 16]\n",
            " [26 16 27 15 23]\n",
            " [16 17 16 17 18]\n",
            " [22 22 26 21 19]]\n",
            "[[ 1 12 11  8  4]\n",
            " [ 8 15  3  4 10]\n",
            " [12 10  9  7 13]\n",
            " [14  3 14  7  6]\n",
            " [16 10 10  9 11]]\n"
          ]
        }
      ]
    },
    {
      "cell_type": "code",
      "source": [
        "trans = np.transpose(a)\n",
        "print(trans)\n",
        "\n",
        "# or\n",
        "\n",
        "trans_2 = a.T\n",
        "print(trans_2)"
      ],
      "metadata": {
        "colab": {
          "base_uri": "https://localhost:8080/"
        },
        "id": "yB048Mub6NyH",
        "outputId": "2028a787-f6c1-4bbf-c41f-be3b2f607ff6"
      },
      "execution_count": null,
      "outputs": [
        {
          "output_type": "stream",
          "name": "stdout",
          "text": [
            "[[9 6 7 1 3]\n",
            " [6 2 3 7 6]\n",
            " [4 7 9 1 8]\n",
            " [2 8 4 5 6]\n",
            " [9 3 5 6 4]]\n",
            "[[9 6 7 1 3]\n",
            " [6 2 3 7 6]\n",
            " [4 7 9 1 8]\n",
            " [2 8 4 5 6]\n",
            " [9 3 5 6 4]]\n"
          ]
        }
      ]
    },
    {
      "cell_type": "code",
      "source": [
        "a = np.random.randint(1,10,(2,3))\n",
        "print(a)\n",
        "print(a.shape)"
      ],
      "metadata": {
        "colab": {
          "base_uri": "https://localhost:8080/"
        },
        "id": "htG62y7k6tgS",
        "outputId": "863ca420-2fae-4867-fc30-7f5bedcb437f"
      },
      "execution_count": null,
      "outputs": [
        {
          "output_type": "stream",
          "name": "stdout",
          "text": [
            "[[8 7 7]\n",
            " [9 5 7]]\n",
            "(2, 3)\n"
          ]
        }
      ]
    },
    {
      "cell_type": "code",
      "source": [
        "b = a.reshape(3,2)\n",
        "print(b)\n",
        "print(b.shape)"
      ],
      "metadata": {
        "colab": {
          "base_uri": "https://localhost:8080/"
        },
        "id": "Zsn5hswh7cQw",
        "outputId": "e775a0b2-45e4-4254-fec8-9989ed345dc1"
      },
      "execution_count": null,
      "outputs": [
        {
          "output_type": "stream",
          "name": "stdout",
          "text": [
            "[[8 7]\n",
            " [7 9]\n",
            " [5 7]]\n",
            "(3, 2)\n"
          ]
        }
      ]
    },
    {
      "cell_type": "code",
      "source": [],
      "metadata": {
        "id": "ebxvvdyQ7thZ"
      },
      "execution_count": null,
      "outputs": []
    }
  ]
}